{
 "cells": [
  {
   "cell_type": "markdown",
   "metadata": {},
   "source": [
    "1. Write a python program to find the factorial of a number."
   ]
  },
  {
   "cell_type": "code",
   "execution_count": 1,
   "metadata": {},
   "outputs": [
    {
     "name": "stdout",
     "output_type": "stream",
     "text": [
      "Enter a number: 6\n",
      "The factorial of 6 is 720\n"
     ]
    }
   ],
   "source": [
    "import pandas as pd\n",
    "import numpy as np\n",
    "num = int(input(\"Enter a number: \"))\n",
    "\n",
    "factorial = 1\n",
    "# to check if the number is negative, positive or zero\n",
    "if num < 0:\n",
    "   print(\"factorial does not exist for negative numbers\")\n",
    "elif num == 0:\n",
    "   print(\"The factorial of 0 is 1\")\n",
    "else:\n",
    "   for i in range(1,num + 1):\n",
    "       factorial = factorial*i\n",
    "   print(\"The factorial of\",num,\"is\",factorial)"
   ]
  },
  {
   "cell_type": "markdown",
   "metadata": {},
   "source": [
    "12.Write a python program to find whether a number is prime or composite"
   ]
  },
  {
   "cell_type": "code",
   "execution_count": null,
   "metadata": {},
   "outputs": [],
   "source": [
    "number = int(input(\"Please enter the number: \"))\n",
    "if number > 1:\n",
    "    for i in range(2,number//2):\n",
    "        if (number % i) == 0:\n",
    "            print(number,\"is a composite number\")\n",
    "            break\n",
    "        else:\n",
    "            print(number,\"is a prime number\")\n",
    "else:\n",
    "    print(number,\"is not a prime number\")"
   ]
  },
  {
   "cell_type": "markdown",
   "metadata": {},
   "source": [
    "13. Write a python program to check whether a given string is palindrome or not."
   ]
  },
  {
   "cell_type": "code",
   "execution_count": 71,
   "metadata": {},
   "outputs": [
    {
     "name": "stdout",
     "output_type": "stream",
     "text": [
      "Enter the string:naveen\n",
      "The String is not palindrome\n"
     ]
    }
   ],
   "source": [
    "my_str=input(\"Enter the string:\")\n",
    "rev_str=reversed(my_str)\n",
    "if list(my_str)==list(rev_str):\n",
    "    print(\"The String is palindrome\")\n",
    "else:\n",
    "    print(\"The String is not palindrome\")   "
   ]
  },
  {
   "cell_type": "markdown",
   "metadata": {},
   "source": [
    "14.Write a Python program to get the third side of right-angled triangle from two given sides"
   ]
  },
  {
   "cell_type": "code",
   "execution_count": 83,
   "metadata": {},
   "outputs": [],
   "source": [
    "def pythogras(opp_side,adj_side,hypothenuse):\n",
    "    if opp_side == str(\"x\"):\n",
    "            return (\"Opposite = \" + str(((hypothenuse**2) - (adj_side**2))**0.5))\n",
    "    elif adj_side == str(\"x\"):\n",
    "            return (\"Adjacent = \" + str(((hypothenuse**2) - (opp_side**2))**0.5))\n",
    "    elif hypothenuse == str(\"x\"):\n",
    "           return (\"Hypothenuse = \" + str(((opp_side**2) + (adj_side**2))**0.5))\n",
    "    else:\n",
    "        return \"all sides are given\""
   ]
  },
  {
   "cell_type": "code",
   "execution_count": 84,
   "metadata": {},
   "outputs": [
    {
     "name": "stdout",
     "output_type": "stream",
     "text": [
      "Hypothenuse = 5.0\n",
      "Adjacent = 4.0\n",
      "Opposite = 3.0\n",
      "all sides are given\n"
     ]
    }
   ],
   "source": [
    "print(pythogras(3,4,'x'))\n",
    "print(pythogras(3,'x',5))\n",
    "print(pythogras('x',4,5))\n",
    "print(pythogras(3,4,5))"
   ]
  },
  {
   "cell_type": "markdown",
   "metadata": {},
   "source": [
    "14.Write a python program to print the frequency of each of the characters present in a given string"
   ]
  },
  {
   "cell_type": "code",
   "execution_count": 88,
   "metadata": {},
   "outputs": [
    {
     "name": "stdout",
     "output_type": "stream",
     "text": [
      "per char frequency in 'Data Trained' is :\n",
      " {'D': 1, 'a': 3, 't': 1, ' ': 1, 'T': 1, 'r': 1, 'i': 1, 'n': 1, 'e': 1, 'd': 1}\n"
     ]
    }
   ],
   "source": [
    "string=\"Data Trained\"\n",
    "frequencies={}\n",
    "for char in string:\n",
    "    if char in frequencies:\n",
    "        frequencies[char]+=1\n",
    "    else:\n",
    "        frequencies[char]=1\n",
    "print(\"per char frequency in '{}' is :\\n {}\".format(string,str(frequencies)))"
   ]
  },
  {
   "cell_type": "code",
   "execution_count": null,
   "metadata": {},
   "outputs": [],
   "source": []
  },
  {
   "cell_type": "code",
   "execution_count": null,
   "metadata": {},
   "outputs": [],
   "source": []
  }
 ],
 "metadata": {
  "kernelspec": {
   "display_name": "Python 3",
   "language": "python",
   "name": "python3"
  },
  "language_info": {
   "codemirror_mode": {
    "name": "ipython",
    "version": 3
   },
   "file_extension": ".py",
   "mimetype": "text/x-python",
   "name": "python",
   "nbconvert_exporter": "python",
   "pygments_lexer": "ipython3",
   "version": "3.8.5"
  }
 },
 "nbformat": 4,
 "nbformat_minor": 4
}
